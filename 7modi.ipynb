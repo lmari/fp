{
 "cells": [
  {
   "cell_type": "markdown",
   "metadata": {},
   "source": [
    "# 7 modi non identici per definire ed eseguire una funzione in Python\n",
    "\n",
    "_bozza, Luca Mari, luglio 2022_\n",
    "\n",
    "La base della programmazione funzionale (_functional programming_, FP) sono le funzioni, e in un linguaggio che supporta la FP, come Python, ci possono essere modi molteplici per definire e poi eseguire una funzione.\n",
    "\n",
    "Quanto segue mostra attraverso un semplice esempio -- il calcolo della media di due numeri -- come la stessa funzione possa essere definita ed eseguita in modi diversi, introdceundo così operativamente alcune caratteristiche della FP."
   ]
  },
  {
   "cell_type": "code",
   "execution_count": 2,
   "metadata": {},
   "outputs": [],
   "source": [
    "# i valori di cui la media sarà calcolata\n",
    "a, b = 2, 3"
   ]
  },
  {
   "cell_type": "markdown",
   "metadata": {},
   "source": [
    "### 1. Modo tradizionale\n",
    "E' il nostro punto di partenza: una funzione è definita indicandone il nome e gli argomenti e quindi specificando come a partire dagli argomenti deve essere calcolato il valore da restituire. Una volta definita, la funzione è eseguita chiamandola per nome e passando dei valori."
   ]
  },
  {
   "cell_type": "code",
   "execution_count": 3,
   "metadata": {},
   "outputs": [
    {
     "name": "stdout",
     "output_type": "stream",
     "text": [
      "2.5\n"
     ]
    }
   ],
   "source": [
    "def mean1(x, y): return (x+y)/2\n",
    "\n",
    "print(mean1(a, b))"
   ]
  },
  {
   "cell_type": "markdown",
   "metadata": {},
   "source": [
    "### 2. Funzione anonima (lambda)\n",
    "Una funzione può essere definita senza specificarne il nome, secondo la logica del lambda calcolo. Per poter eseguire la funzione, la sua definizione è assegnata a una variabile, senza specificarne gli argomenti: tale variabile contiene dunque non un valore ma appunto una funzione, e come tale è poi usata per eseguire la funzione stessa passando gli argomenti come richiesto dalla definzione."
   ]
  },
  {
   "cell_type": "code",
   "execution_count": 4,
   "metadata": {},
   "outputs": [
    {
     "name": "stdout",
     "output_type": "stream",
     "text": [
      "2.5\n"
     ]
    }
   ],
   "source": [
    "mean2 = lambda x,y: (x+y)/2\n",
    "\n",
    "print(mean2(a, b))"
   ]
  },
  {
   "cell_type": "markdown",
   "metadata": {},
   "source": [
    "### 3. Lambda inline\n",
    "Se una funzione definita in modo anonimo deve essere eseguita una sola volta, non c'è bisogno di darle un nome: la si può eseguire inline come funzione anonima."
   ]
  },
  {
   "cell_type": "code",
   "execution_count": 5,
   "metadata": {},
   "outputs": [
    {
     "name": "stdout",
     "output_type": "stream",
     "text": [
      "2.5\n"
     ]
    }
   ],
   "source": [
    "print((lambda x, y: (x+y)/2)(a, b))"
   ]
  },
  {
   "cell_type": "markdown",
   "metadata": {},
   "source": [
    "### 4. Currying\n",
    "Il principio del currying è di modificare una funzione a più argomenti in modo da trasformarla in più funzioni ognuna a un argomento: per esempio, una funzione a due argomenti viene modificata in una funzione parziale a un argomento e che restituisce la funzione di partenza. Ciò è tra l'altro in coerenza con la versione basilare del lambda calcolo, che ammette solo funzioni a un argomento."
   ]
  },
  {
   "cell_type": "code",
   "execution_count": 6,
   "metadata": {},
   "outputs": [
    {
     "name": "stdout",
     "output_type": "stream",
     "text": [
      "2.5\n"
     ]
    }
   ],
   "source": [
    "mean4 = lambda x: lambda y: (x+y)/2\n",
    "\n",
    "print(mean4(a)(b))"
   ]
  },
  {
   "cell_type": "markdown",
   "metadata": {},
   "source": [
    "### 5. Currying inline\n",
    "Come la precedente, ma inline, quando la funzione deve essere eseguita una volta sola."
   ]
  },
  {
   "cell_type": "code",
   "execution_count": 7,
   "metadata": {},
   "outputs": [
    {
     "name": "stdout",
     "output_type": "stream",
     "text": [
      "2.5\n"
     ]
    }
   ],
   "source": [
    "print((lambda x: lambda y: (x+y)/2)(a)(b))"
   ]
  },
  {
   "cell_type": "markdown",
   "metadata": {},
   "source": [
    "### 6. Currying di una funzione definita in modo tradizionale\n",
    "La definizione tradizionale delle funzioni rende più esplicita, anche se forse più complessa, la struttura del currying: la funzione \"esterna\" include la definizione di una funzione \"interna\", e la prima restituisce come risultato la seconda."
   ]
  },
  {
   "cell_type": "code",
   "execution_count": 8,
   "metadata": {},
   "outputs": [
    {
     "name": "stdout",
     "output_type": "stream",
     "text": [
      "2.5\n"
     ]
    }
   ],
   "source": [
    "def mean6(x):\n",
    "    def mean6b(y): return (x+y)/2\n",
    "    return mean6b\n",
    "\n",
    "print(mean6(a)(b))"
   ]
  },
  {
   "cell_type": "markdown",
   "metadata": {},
   "source": [
    "### 7. Currying a posteriori di una funzione definita a più argomenti\n",
    "Data una funzione definita a più argomenti, se ne può costruire una versione curried trasformandola attraverso una funzione di supporto."
   ]
  },
  {
   "cell_type": "code",
   "execution_count": 9,
   "metadata": {},
   "outputs": [
    {
     "name": "stdout",
     "output_type": "stream",
     "text": [
      "2.5\n"
     ]
    }
   ],
   "source": [
    "def curry(f): return lambda x: lambda y: f(x, y)\n",
    "\n",
    "mean7 = curry(mean1)\n",
    "\n",
    "print(mean7(a)(b))"
   ]
  },
  {
   "cell_type": "code",
   "execution_count": null,
   "metadata": {},
   "outputs": [],
   "source": []
  }
 ],
 "metadata": {
  "interpreter": {
   "hash": "60ef02534f4d9ce7b66b7f59b2e0f9f3c1ac35fe1ad0f629d96cf38043efefca"
  },
  "kernelspec": {
   "display_name": "Python 3.9.12 ('base')",
   "language": "python",
   "name": "python3"
  },
  "language_info": {
   "codemirror_mode": {
    "name": "ipython",
    "version": 3
   },
   "file_extension": ".py",
   "mimetype": "text/x-python",
   "name": "python",
   "nbconvert_exporter": "python",
   "pygments_lexer": "ipython3",
   "version": "3.9.13"
  },
  "orig_nbformat": 4
 },
 "nbformat": 4,
 "nbformat_minor": 2
}
