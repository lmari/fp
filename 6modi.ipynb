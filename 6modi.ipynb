{
 "cells": [
  {
   "cell_type": "markdown",
   "metadata": {},
   "source": [
    "# 6 modi non identici per definire ed eseguire una funzione in Python\n",
    "\n",
    "_bozza, LM, aprile 2022_  \n",
    "La base della programmazione funzionale (FP) è il concetto di funzione. In un linguaggio che supporta la FP, come Python, ci possono essere modi molteplici per definire e poi eseguire una funzione. Un'esplorazione di (alcuni di) questi modi introduce operativamente ad alcune caratteristiche della FP."
   ]
  },
  {
   "cell_type": "markdown",
   "metadata": {},
   "source": [
    "### 1. Modo tradizionale"
   ]
  },
  {
   "cell_type": "code",
   "execution_count": 2,
   "metadata": {},
   "outputs": [
    {
     "name": "stdout",
     "output_type": "stream",
     "text": [
      "2.5\n"
     ]
    }
   ],
   "source": [
    "def mean1(x,y): return (x+y)/2\n",
    "\n",
    "print(mean1(2,3))"
   ]
  },
  {
   "cell_type": "markdown",
   "metadata": {},
   "source": [
    "E' il nostro punto di partenza: una funzione è definita indicandone il nome e gli argomenti e quindi specificando come a partire dagli argomenti deve essere calcolato il valore da restituire. Una volta definita, la funzione è eseguita chiamandola per nome e passando dei valori.\n",
    "### 2. Funzione anonima (lambda)"
   ]
  },
  {
   "cell_type": "code",
   "execution_count": 9,
   "metadata": {},
   "outputs": [
    {
     "name": "stdout",
     "output_type": "stream",
     "text": [
      "3.5\n"
     ]
    }
   ],
   "source": [
    "mean2 = lambda x,y: (x+y)/2\n",
    "\n",
    "print(mean2(3,4))"
   ]
  },
  {
   "cell_type": "markdown",
   "metadata": {},
   "source": [
    "Una funzione può essere definita senza specificarne il nome, secondo la logica del lambda calcolo. Per poter eseguire la funzione, la sua definizione è assegnata a una variabile, senza specificarne gli argomenti: tale variabile contiene dunque non un valore ma appunto una funzione, e come tale è usata per eseguire la funzione stessa.\n",
    "### 3. Lambda inline"
   ]
  },
  {
   "cell_type": "code",
   "execution_count": 8,
   "metadata": {},
   "outputs": [
    {
     "name": "stdout",
     "output_type": "stream",
     "text": [
      "4.5\n"
     ]
    }
   ],
   "source": [
    "print((lambda x,y: (x+y)/2)(4,5))"
   ]
  },
  {
   "cell_type": "markdown",
   "metadata": {},
   "source": [
    "Se la funzione deve essere eseguita una sola volta non c'è bisogno di darle un nome: può essere eseguita inline come funzione anonima.\n",
    "### 4. Currying"
   ]
  },
  {
   "cell_type": "code",
   "execution_count": 15,
   "metadata": {},
   "outputs": [
    {
     "name": "stdout",
     "output_type": "stream",
     "text": [
      "5.5\n"
     ]
    }
   ],
   "source": [
    "mean4 = lambda x: lambda y: (x+y)/2\n",
    "\n",
    "print(mean4(5)(6))"
   ]
  },
  {
   "cell_type": "markdown",
   "metadata": {},
   "source": [
    "Il principio del currying: una funzione a due argomenti modificata in una funzione parziale a un argomento e che restituisce la funzione di partenza.\n",
    "### 5. Currying inline"
   ]
  },
  {
   "cell_type": "code",
   "execution_count": 13,
   "metadata": {},
   "outputs": [
    {
     "name": "stdout",
     "output_type": "stream",
     "text": [
      "6.5\n"
     ]
    }
   ],
   "source": [
    "print((lambda x: lambda y: (x+y)/2)(6)(7))"
   ]
  },
  {
   "cell_type": "markdown",
   "metadata": {},
   "source": [
    "Come la precedente, ma inline.\n",
    "### 6. Currying di una funzione definita in modo tradizionale"
   ]
  },
  {
   "cell_type": "code",
   "execution_count": 21,
   "metadata": {},
   "outputs": [
    {
     "name": "stdout",
     "output_type": "stream",
     "text": [
      "7.5\n"
     ]
    }
   ],
   "source": [
    "def curry(f):\n",
    "    return lambda x: lambda y: f(x,y)\n",
    "\n",
    "mean6 = curry(mean1)\n",
    "\n",
    "print(mean6(7)(8))"
   ]
  },
  {
   "cell_type": "markdown",
   "metadata": {},
   "source": [
    "Data una funzione definita in modo tradizionale, se ne può costruire una versione curried."
   ]
  }
 ],
 "metadata": {
  "interpreter": {
   "hash": "60ef02534f4d9ce7b66b7f59b2e0f9f3c1ac35fe1ad0f629d96cf38043efefca"
  },
  "kernelspec": {
   "display_name": "Python 3.9.12 ('base')",
   "language": "python",
   "name": "python3"
  },
  "language_info": {
   "codemirror_mode": {
    "name": "ipython",
    "version": 3
   },
   "file_extension": ".py",
   "mimetype": "text/x-python",
   "name": "python",
   "nbconvert_exporter": "python",
   "pygments_lexer": "ipython3",
   "version": "3.9.12"
  },
  "orig_nbformat": 4
 },
 "nbformat": 4,
 "nbformat_minor": 2
}
