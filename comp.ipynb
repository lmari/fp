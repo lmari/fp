{
 "cells": [
  {
   "cell_type": "markdown",
   "metadata": {},
   "source": [
    "# Comporre funzioni in Python\n",
    "_bozza, Luca Mari, luglio 2022_\n",
    "\n",
    "La composizione di funzioni, ciò che in matematica di scrive abitualmente $g(f(x)$, è parte importante della programmazione funzionale: vediamo qualche esempio."
   ]
  },
  {
   "cell_type": "code",
   "execution_count": 4,
   "metadata": {},
   "outputs": [],
   "source": [
    "# l'esempio di due funzioni da comporre\n",
    "succ = lambda x: x+1\n",
    "doppio = lambda x: x*2\n",
    "\n",
    "# l'esempio di un numero su cui calcolare la funzione composta\n",
    "a = 5"
   ]
  },
  {
   "cell_type": "markdown",
   "metadata": {},
   "source": [
    "### Prima soluzione: composizione esplicita"
   ]
  },
  {
   "cell_type": "code",
   "execution_count": 5,
   "metadata": {},
   "outputs": [
    {
     "name": "stdout",
     "output_type": "stream",
     "text": [
      "11\n"
     ]
    }
   ],
   "source": [
    "print(succ(doppio(a)))"
   ]
  },
  {
   "cell_type": "markdown",
   "metadata": {},
   "source": [
    "### Seconda soluzione: operatore di composizione con argomento dichiarato"
   ]
  },
  {
   "cell_type": "code",
   "execution_count": 6,
   "metadata": {},
   "outputs": [
    {
     "name": "stdout",
     "output_type": "stream",
     "text": [
      "11\n"
     ]
    }
   ],
   "source": [
    "comp = lambda g, f, x: g(f(x))\n",
    "print(comp(succ, doppio, a))"
   ]
  },
  {
   "cell_type": "markdown",
   "metadata": {},
   "source": [
    "... che dunque si può usare anche così:"
   ]
  },
  {
   "cell_type": "code",
   "execution_count": 8,
   "metadata": {},
   "outputs": [
    {
     "name": "stdout",
     "output_type": "stream",
     "text": [
      "11\n"
     ]
    }
   ],
   "source": [
    "succ_doppio = lambda x: comp(succ, doppio, x)\n",
    "print(succ_doppio(a))\n"
   ]
  },
  {
   "cell_type": "markdown",
   "metadata": {},
   "source": [
    "## Terza soluzione: (meta-)funzione di composizione che restituisce una funzione..."
   ]
  },
  {
   "cell_type": "code",
   "execution_count": 9,
   "metadata": {},
   "outputs": [
    {
     "name": "stdout",
     "output_type": "stream",
     "text": [
      "11\n"
     ]
    }
   ],
   "source": [
    "comp1 = lambda g, f: lambda x: g(f(x))\n",
    "succ_doppio1 = comp1(succ, doppio)\n",
    "print(succ_doppio1(a))"
   ]
  }
 ],
 "metadata": {
  "kernelspec": {
   "display_name": "Python 3.9.13 ('base')",
   "language": "python",
   "name": "python3"
  },
  "language_info": {
   "codemirror_mode": {
    "name": "ipython",
    "version": 3
   },
   "file_extension": ".py",
   "mimetype": "text/x-python",
   "name": "python",
   "nbconvert_exporter": "python",
   "pygments_lexer": "ipython3",
   "version": "3.9.13"
  },
  "orig_nbformat": 4,
  "vscode": {
   "interpreter": {
    "hash": "60ef02534f4d9ce7b66b7f59b2e0f9f3c1ac35fe1ad0f629d96cf38043efefca"
   }
  }
 },
 "nbformat": 4,
 "nbformat_minor": 2
}
